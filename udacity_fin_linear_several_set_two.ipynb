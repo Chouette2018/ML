{
 "cells": [
  {
   "cell_type": "code",
   "execution_count": 2,
   "metadata": {},
   "outputs": [
    {
     "name": "stdout",
     "output_type": "stream",
     "text": [
      "Collecting yfinance\n",
      "  Downloading yfinance-0.1.55.tar.gz (23 kB)\n",
      "Requirement already satisfied: pandas>=0.24 in /home/ec2-user/anaconda3/envs/pytorch_p36/lib/python3.6/site-packages (from yfinance) (1.0.1)\n",
      "Requirement already satisfied: numpy>=1.15 in /home/ec2-user/anaconda3/envs/pytorch_p36/lib/python3.6/site-packages (from yfinance) (1.18.1)\n",
      "Requirement already satisfied: requests>=2.20 in /home/ec2-user/anaconda3/envs/pytorch_p36/lib/python3.6/site-packages (from yfinance) (2.22.0)\n",
      "Collecting multitasking>=0.0.7\n",
      "  Downloading multitasking-0.0.9.tar.gz (8.1 kB)\n",
      "Collecting lxml>=4.5.1\n",
      "  Downloading lxml-4.6.1-cp36-cp36m-manylinux1_x86_64.whl (5.5 MB)\n",
      "\u001b[K     |████████████████████████████████| 5.5 MB 4.6 MB/s eta 0:00:01\n",
      "\u001b[?25hRequirement already satisfied: python-dateutil>=2.6.1 in /home/ec2-user/anaconda3/envs/pytorch_p36/lib/python3.6/site-packages (from pandas>=0.24->yfinance) (2.8.1)\n",
      "Requirement already satisfied: pytz>=2017.2 in /home/ec2-user/anaconda3/envs/pytorch_p36/lib/python3.6/site-packages (from pandas>=0.24->yfinance) (2019.3)\n",
      "Requirement already satisfied: urllib3!=1.25.0,!=1.25.1,<1.26,>=1.21.1 in /home/ec2-user/anaconda3/envs/pytorch_p36/lib/python3.6/site-packages (from requests>=2.20->yfinance) (1.25.10)\n",
      "Requirement already satisfied: certifi>=2017.4.17 in /home/ec2-user/anaconda3/envs/pytorch_p36/lib/python3.6/site-packages (from requests>=2.20->yfinance) (2020.6.20)\n",
      "Requirement already satisfied: chardet<3.1.0,>=3.0.2 in /home/ec2-user/anaconda3/envs/pytorch_p36/lib/python3.6/site-packages (from requests>=2.20->yfinance) (3.0.4)\n",
      "Requirement already satisfied: idna<2.9,>=2.5 in /home/ec2-user/anaconda3/envs/pytorch_p36/lib/python3.6/site-packages (from requests>=2.20->yfinance) (2.8)\n",
      "Requirement already satisfied: six>=1.5 in /home/ec2-user/anaconda3/envs/pytorch_p36/lib/python3.6/site-packages (from python-dateutil>=2.6.1->pandas>=0.24->yfinance) (1.14.0)\n",
      "Building wheels for collected packages: yfinance, multitasking\n",
      "  Building wheel for yfinance (setup.py) ... \u001b[?25ldone\n",
      "\u001b[?25h  Created wheel for yfinance: filename=yfinance-0.1.55-py2.py3-none-any.whl size=22616 sha256=eff9a90b53f2a4add587edf02c419f7d6362bde63c3f1005f2ef54f026d45074\n",
      "  Stored in directory: /home/ec2-user/.cache/pip/wheels/68/72/87/a384b8b8139f2489024464d6f5937e6acb2054c57d25519fb9\n",
      "  Building wheel for multitasking (setup.py) ... \u001b[?25ldone\n",
      "\u001b[?25h  Created wheel for multitasking: filename=multitasking-0.0.9-py3-none-any.whl size=8366 sha256=1ce7780e5fda2d0b37117b74ad1c2ac16c00990a70caafb7d2659ef1a9452b8a\n",
      "  Stored in directory: /home/ec2-user/.cache/pip/wheels/5e/8a/c4/59c699498647c7c94b14c87a904ca7540646107b3d94b7c320\n",
      "Successfully built yfinance multitasking\n",
      "Installing collected packages: multitasking, lxml, yfinance\n",
      "  Attempting uninstall: lxml\n",
      "    Found existing installation: lxml 4.5.0\n",
      "    Uninstalling lxml-4.5.0:\n",
      "      Successfully uninstalled lxml-4.5.0\n",
      "Successfully installed lxml-4.6.1 multitasking-0.0.9 yfinance-0.1.55\n",
      "\u001b[33mWARNING: You are using pip version 20.0.2; however, version 20.2.3 is available.\n",
      "You should consider upgrading via the '/home/ec2-user/anaconda3/envs/pytorch_p36/bin/python -m pip install --upgrade pip' command.\u001b[0m\n",
      "Note: you may need to restart the kernel to use updated packages.\n"
     ]
    }
   ],
   "source": [
    "pip install yfinance"
   ]
  },
  {
   "cell_type": "code",
   "execution_count": 1,
   "metadata": {},
   "outputs": [],
   "source": [
    "import numpy as np\n",
    "import pandas as pd\n",
    "import matplotlib.pyplot as plt\n",
    "from sklearn.pipeline import Pipeline\n",
    "from sklearn.preprocessing import PolynomialFeatures\n",
    "from sklearn.preprocessing import MinMaxScaler\n",
    "from sklearn.preprocessing import StandardScaler\n",
    "from sklearn.linear_model import LinearRegression\n",
    "from sklearn.linear_model import Ridge\n",
    "from sklearn.tree import DecisionTreeRegressor\n",
    "from sklearn.kernel_ridge import KernelRidge\n",
    "from sklearn.neighbors import KNeighborsRegressor\n",
    "from sklearn.ensemble import RandomForestRegressor\n",
    "from sklearn.metrics import mean_squared_error\n",
    "import yfinance as yf\n",
    "import features_helpers as fh"
   ]
  },
  {
   "cell_type": "code",
   "execution_count": 2,
   "metadata": {},
   "outputs": [
    {
     "data": {
      "text/plain": [
       "['__builtins__',\n",
       " '__cached__',\n",
       " '__doc__',\n",
       " '__file__',\n",
       " '__loader__',\n",
       " '__name__',\n",
       " '__package__',\n",
       " '__spec__',\n",
       " 'ascii_letters',\n",
       " 'define_compressed_features_set_one',\n",
       " 'define_data_group',\n",
       " 'define_features_set_one',\n",
       " 'define_features_set_two',\n",
       " 'define_heat_map',\n",
       " 'np',\n",
       " 'pd',\n",
       " 'plt',\n",
       " 're',\n",
       " 'scale_and_split',\n",
       " 'sns',\n",
       " 'split_and_standardize_data',\n",
       " 'split_data',\n",
       " 'split_data_for_period',\n",
       " 'split_data_for_period_V2',\n",
       " 'split_data_for_period_and_outsteps',\n",
       " 'split_data_for_steps',\n",
       " 'split_data_portion']"
      ]
     },
     "execution_count": 2,
     "metadata": {},
     "output_type": "execute_result"
    }
   ],
   "source": [
    "dir(fh)"
   ]
  },
  {
   "cell_type": "code",
   "execution_count": 3,
   "metadata": {},
   "outputs": [
    {
     "name": "stdout",
     "output_type": "stream",
     "text": [
      "[*********************100%***********************]  1 of 1 completed\n"
     ]
    }
   ],
   "source": [
    "data = yf.download(\"AMD\", start=\"2010-09-29\", end=\"2020-09-29\")"
   ]
  },
  {
   "cell_type": "code",
   "execution_count": 4,
   "metadata": {},
   "outputs": [
    {
     "data": {
      "text/html": [
       "<div>\n",
       "<style scoped>\n",
       "    .dataframe tbody tr th:only-of-type {\n",
       "        vertical-align: middle;\n",
       "    }\n",
       "\n",
       "    .dataframe tbody tr th {\n",
       "        vertical-align: top;\n",
       "    }\n",
       "\n",
       "    .dataframe thead th {\n",
       "        text-align: right;\n",
       "    }\n",
       "</style>\n",
       "<table border=\"1\" class=\"dataframe\">\n",
       "  <thead>\n",
       "    <tr style=\"text-align: right;\">\n",
       "      <th></th>\n",
       "      <th>Open</th>\n",
       "      <th>High</th>\n",
       "      <th>Low</th>\n",
       "      <th>Close</th>\n",
       "      <th>Adj Close</th>\n",
       "      <th>Volume</th>\n",
       "    </tr>\n",
       "  </thead>\n",
       "  <tbody>\n",
       "    <tr>\n",
       "      <th>count</th>\n",
       "      <td>2517.000000</td>\n",
       "      <td>2517.000000</td>\n",
       "      <td>2517.000000</td>\n",
       "      <td>2517.000000</td>\n",
       "      <td>2517.000000</td>\n",
       "      <td>2.517000e+03</td>\n",
       "    </tr>\n",
       "    <tr>\n",
       "      <th>mean</th>\n",
       "      <td>13.166106</td>\n",
       "      <td>13.444561</td>\n",
       "      <td>12.877080</td>\n",
       "      <td>13.169841</td>\n",
       "      <td>13.169841</td>\n",
       "      <td>4.071425e+07</td>\n",
       "    </tr>\n",
       "    <tr>\n",
       "      <th>std</th>\n",
       "      <td>15.854043</td>\n",
       "      <td>16.193626</td>\n",
       "      <td>15.483868</td>\n",
       "      <td>15.866651</td>\n",
       "      <td>15.866651</td>\n",
       "      <td>3.579938e+07</td>\n",
       "    </tr>\n",
       "    <tr>\n",
       "      <th>min</th>\n",
       "      <td>1.620000</td>\n",
       "      <td>1.690000</td>\n",
       "      <td>1.610000</td>\n",
       "      <td>1.620000</td>\n",
       "      <td>1.620000</td>\n",
       "      <td>0.000000e+00</td>\n",
       "    </tr>\n",
       "    <tr>\n",
       "      <th>25%</th>\n",
       "      <td>3.650000</td>\n",
       "      <td>3.710000</td>\n",
       "      <td>3.590000</td>\n",
       "      <td>3.650000</td>\n",
       "      <td>3.650000</td>\n",
       "      <td>1.526940e+07</td>\n",
       "    </tr>\n",
       "    <tr>\n",
       "      <th>50%</th>\n",
       "      <td>6.960000</td>\n",
       "      <td>7.080000</td>\n",
       "      <td>6.800000</td>\n",
       "      <td>6.960000</td>\n",
       "      <td>6.960000</td>\n",
       "      <td>2.924340e+07</td>\n",
       "    </tr>\n",
       "    <tr>\n",
       "      <th>75%</th>\n",
       "      <td>13.780000</td>\n",
       "      <td>14.050000</td>\n",
       "      <td>13.540000</td>\n",
       "      <td>13.810000</td>\n",
       "      <td>13.810000</td>\n",
       "      <td>5.441310e+07</td>\n",
       "    </tr>\n",
       "    <tr>\n",
       "      <th>max</th>\n",
       "      <td>94.010002</td>\n",
       "      <td>94.279999</td>\n",
       "      <td>90.190002</td>\n",
       "      <td>92.180000</td>\n",
       "      <td>92.180000</td>\n",
       "      <td>3.250584e+08</td>\n",
       "    </tr>\n",
       "  </tbody>\n",
       "</table>\n",
       "</div>"
      ],
      "text/plain": [
       "              Open         High          Low        Close    Adj Close  \\\n",
       "count  2517.000000  2517.000000  2517.000000  2517.000000  2517.000000   \n",
       "mean     13.166106    13.444561    12.877080    13.169841    13.169841   \n",
       "std      15.854043    16.193626    15.483868    15.866651    15.866651   \n",
       "min       1.620000     1.690000     1.610000     1.620000     1.620000   \n",
       "25%       3.650000     3.710000     3.590000     3.650000     3.650000   \n",
       "50%       6.960000     7.080000     6.800000     6.960000     6.960000   \n",
       "75%      13.780000    14.050000    13.540000    13.810000    13.810000   \n",
       "max      94.010002    94.279999    90.190002    92.180000    92.180000   \n",
       "\n",
       "             Volume  \n",
       "count  2.517000e+03  \n",
       "mean   4.071425e+07  \n",
       "std    3.579938e+07  \n",
       "min    0.000000e+00  \n",
       "25%    1.526940e+07  \n",
       "50%    2.924340e+07  \n",
       "75%    5.441310e+07  \n",
       "max    3.250584e+08  "
      ]
     },
     "execution_count": 4,
     "metadata": {},
     "output_type": "execute_result"
    }
   ],
   "source": [
    "data.describe()"
   ]
  },
  {
   "cell_type": "code",
   "execution_count": 5,
   "metadata": {},
   "outputs": [
    {
     "name": "stdout",
     "output_type": "stream",
     "text": [
      "Date\n",
      "2010-09-29   -0.17\n",
      "2010-09-30   -0.17\n",
      "2010-10-01   -0.06\n",
      "2010-10-04   -0.11\n",
      "2010-10-05    0.04\n",
      "Name: Adj Close, dtype: float64\n",
      "count    2517.000000\n",
      "mean        0.028617\n",
      "std         0.781913\n",
      "min        -7.680000\n",
      "25%        -0.110000\n",
      "50%         0.000000\n",
      "75%         0.120000\n",
      "max         9.830002\n",
      "Name: Adj Close, dtype: float64\n"
     ]
    }
   ],
   "source": [
    "data = fh.define_features_set_two(data)"
   ]
  },
  {
   "cell_type": "code",
   "execution_count": 6,
   "metadata": {},
   "outputs": [
    {
     "data": {
      "text/html": [
       "<div>\n",
       "<style scoped>\n",
       "    .dataframe tbody tr th:only-of-type {\n",
       "        vertical-align: middle;\n",
       "    }\n",
       "\n",
       "    .dataframe tbody tr th {\n",
       "        vertical-align: top;\n",
       "    }\n",
       "\n",
       "    .dataframe thead th {\n",
       "        text-align: right;\n",
       "    }\n",
       "</style>\n",
       "<table border=\"1\" class=\"dataframe\">\n",
       "  <thead>\n",
       "    <tr style=\"text-align: right;\">\n",
       "      <th></th>\n",
       "      <th>Adj Close</th>\n",
       "      <th>Volume</th>\n",
       "      <th>ma7</th>\n",
       "      <th>ma21</th>\n",
       "      <th>26ema</th>\n",
       "      <th>12ema</th>\n",
       "      <th>MACD</th>\n",
       "      <th>20sd</th>\n",
       "      <th>upper_band</th>\n",
       "      <th>lower_band</th>\n",
       "      <th>ema</th>\n",
       "      <th>ROC</th>\n",
       "      <th>RSI</th>\n",
       "    </tr>\n",
       "  </thead>\n",
       "  <tbody>\n",
       "    <tr>\n",
       "      <th>count</th>\n",
       "      <td>2517.000000</td>\n",
       "      <td>2.517000e+03</td>\n",
       "      <td>2511.000000</td>\n",
       "      <td>2497.000000</td>\n",
       "      <td>2517.000000</td>\n",
       "      <td>2517.000000</td>\n",
       "      <td>2517.000000</td>\n",
       "      <td>2498.000000</td>\n",
       "      <td>2497.000000</td>\n",
       "      <td>2497.000000</td>\n",
       "      <td>2517.000000</td>\n",
       "      <td>2507.000000</td>\n",
       "      <td>2517.000000</td>\n",
       "    </tr>\n",
       "    <tr>\n",
       "      <th>mean</th>\n",
       "      <td>13.169841</td>\n",
       "      <td>4.071425e+07</td>\n",
       "      <td>13.100209</td>\n",
       "      <td>12.934631</td>\n",
       "      <td>12.814380</td>\n",
       "      <td>13.014867</td>\n",
       "      <td>0.200487</td>\n",
       "      <td>0.772035</td>\n",
       "      <td>14.479193</td>\n",
       "      <td>11.390069</td>\n",
       "      <td>12.899571</td>\n",
       "      <td>0.016034</td>\n",
       "      <td>51.811041</td>\n",
       "    </tr>\n",
       "    <tr>\n",
       "      <th>std</th>\n",
       "      <td>15.866651</td>\n",
       "      <td>3.579938e+07</td>\n",
       "      <td>15.707139</td>\n",
       "      <td>15.319954</td>\n",
       "      <td>15.053168</td>\n",
       "      <td>15.520397</td>\n",
       "      <td>0.861549</td>\n",
       "      <td>1.180494</td>\n",
       "      <td>17.277746</td>\n",
       "      <td>13.491970</td>\n",
       "      <td>15.252319</td>\n",
       "      <td>0.114751</td>\n",
       "      <td>14.977326</td>\n",
       "    </tr>\n",
       "    <tr>\n",
       "      <th>min</th>\n",
       "      <td>1.620000</td>\n",
       "      <td>0.000000e+00</td>\n",
       "      <td>1.701429</td>\n",
       "      <td>1.792381</td>\n",
       "      <td>1.786735</td>\n",
       "      <td>1.745111</td>\n",
       "      <td>-2.717936</td>\n",
       "      <td>0.027415</td>\n",
       "      <td>1.904977</td>\n",
       "      <td>1.459299</td>\n",
       "      <td>1.770352</td>\n",
       "      <td>-0.389638</td>\n",
       "      <td>0.000000</td>\n",
       "    </tr>\n",
       "    <tr>\n",
       "      <th>25%</th>\n",
       "      <td>3.650000</td>\n",
       "      <td>1.526940e+07</td>\n",
       "      <td>3.650714</td>\n",
       "      <td>3.616667</td>\n",
       "      <td>3.655424</td>\n",
       "      <td>3.638503</td>\n",
       "      <td>-0.106013</td>\n",
       "      <td>0.177505</td>\n",
       "      <td>4.030972</td>\n",
       "      <td>3.217274</td>\n",
       "      <td>3.642578</td>\n",
       "      <td>-0.051312</td>\n",
       "      <td>41.410339</td>\n",
       "    </tr>\n",
       "    <tr>\n",
       "      <th>50%</th>\n",
       "      <td>6.960000</td>\n",
       "      <td>2.924340e+07</td>\n",
       "      <td>6.974286</td>\n",
       "      <td>6.892381</td>\n",
       "      <td>6.894359</td>\n",
       "      <td>6.958068</td>\n",
       "      <td>0.032777</td>\n",
       "      <td>0.357768</td>\n",
       "      <td>7.688317</td>\n",
       "      <td>6.046098</td>\n",
       "      <td>6.925028</td>\n",
       "      <td>0.012563</td>\n",
       "      <td>52.602851</td>\n",
       "    </tr>\n",
       "    <tr>\n",
       "      <th>75%</th>\n",
       "      <td>13.810000</td>\n",
       "      <td>5.441310e+07</td>\n",
       "      <td>13.784286</td>\n",
       "      <td>13.560000</td>\n",
       "      <td>13.358875</td>\n",
       "      <td>13.637732</td>\n",
       "      <td>0.269461</td>\n",
       "      <td>0.815067</td>\n",
       "      <td>14.927400</td>\n",
       "      <td>12.264015</td>\n",
       "      <td>13.446185</td>\n",
       "      <td>0.081133</td>\n",
       "      <td>62.230244</td>\n",
       "    </tr>\n",
       "    <tr>\n",
       "      <th>max</th>\n",
       "      <td>92.180000</td>\n",
       "      <td>3.250584e+08</td>\n",
       "      <td>87.848572</td>\n",
       "      <td>84.357618</td>\n",
       "      <td>81.482128</td>\n",
       "      <td>86.373815</td>\n",
       "      <td>8.053474</td>\n",
       "      <td>12.143351</td>\n",
       "      <td>93.978309</td>\n",
       "      <td>77.721870</td>\n",
       "      <td>83.520131</td>\n",
       "      <td>0.555970</td>\n",
       "      <td>91.367263</td>\n",
       "    </tr>\n",
       "  </tbody>\n",
       "</table>\n",
       "</div>"
      ],
      "text/plain": [
       "         Adj Close        Volume          ma7         ma21        26ema  \\\n",
       "count  2517.000000  2.517000e+03  2511.000000  2497.000000  2517.000000   \n",
       "mean     13.169841  4.071425e+07    13.100209    12.934631    12.814380   \n",
       "std      15.866651  3.579938e+07    15.707139    15.319954    15.053168   \n",
       "min       1.620000  0.000000e+00     1.701429     1.792381     1.786735   \n",
       "25%       3.650000  1.526940e+07     3.650714     3.616667     3.655424   \n",
       "50%       6.960000  2.924340e+07     6.974286     6.892381     6.894359   \n",
       "75%      13.810000  5.441310e+07    13.784286    13.560000    13.358875   \n",
       "max      92.180000  3.250584e+08    87.848572    84.357618    81.482128   \n",
       "\n",
       "             12ema         MACD         20sd   upper_band   lower_band  \\\n",
       "count  2517.000000  2517.000000  2498.000000  2497.000000  2497.000000   \n",
       "mean     13.014867     0.200487     0.772035    14.479193    11.390069   \n",
       "std      15.520397     0.861549     1.180494    17.277746    13.491970   \n",
       "min       1.745111    -2.717936     0.027415     1.904977     1.459299   \n",
       "25%       3.638503    -0.106013     0.177505     4.030972     3.217274   \n",
       "50%       6.958068     0.032777     0.357768     7.688317     6.046098   \n",
       "75%      13.637732     0.269461     0.815067    14.927400    12.264015   \n",
       "max      86.373815     8.053474    12.143351    93.978309    77.721870   \n",
       "\n",
       "               ema          ROC          RSI  \n",
       "count  2517.000000  2507.000000  2517.000000  \n",
       "mean     12.899571     0.016034    51.811041  \n",
       "std      15.252319     0.114751    14.977326  \n",
       "min       1.770352    -0.389638     0.000000  \n",
       "25%       3.642578    -0.051312    41.410339  \n",
       "50%       6.925028     0.012563    52.602851  \n",
       "75%      13.446185     0.081133    62.230244  \n",
       "max      83.520131     0.555970    91.367263  "
      ]
     },
     "execution_count": 6,
     "metadata": {},
     "output_type": "execute_result"
    }
   ],
   "source": [
    "data.describe()"
   ]
  },
  {
   "cell_type": "code",
   "execution_count": 7,
   "metadata": {},
   "outputs": [
    {
     "data": {
      "image/png": "[encoded data removed]",
      "text/plain": [
       "<Figure size 792x648 with 2 Axes>"
      ]
     },
     "metadata": {
      "needs_background": "light"
     },
     "output_type": "display_data"
    }
   ],
   "source": [
    "fh.define_heat_map(data)"
   ]
  },
  {
   "cell_type": "markdown",
   "metadata": {},
   "source": [
    "Based on the heatmap, it seems we could ignore \"Open\", \"Close\", \"High\" and \"Low\" data. They are highly correlated to \"Adj Close\".  We cannot use \"Volume\" either as we cannot perdict one day to the next what would be the number of transactions."
   ]
  },
  {
   "cell_type": "code",
   "execution_count": 8,
   "metadata": {},
   "outputs": [],
   "source": [
    "#data_reduced = data.drop(columns=['Close','High','Low', 'Open', 'Volume'])\n",
    "data_reduced = data\n",
    "data_reduced.bfill(inplace=True)"
   ]
  },
  {
   "cell_type": "code",
   "execution_count": 9,
   "metadata": {},
   "outputs": [
    {
     "data": {
      "text/html": [
       "<div>\n",
       "<style scoped>\n",
       "    .dataframe tbody tr th:only-of-type {\n",
       "        vertical-align: middle;\n",
       "    }\n",
       "\n",
       "    .dataframe tbody tr th {\n",
       "        vertical-align: top;\n",
       "    }\n",
       "\n",
       "    .dataframe thead th {\n",
       "        text-align: right;\n",
       "    }\n",
       "</style>\n",
       "<table border=\"1\" class=\"dataframe\">\n",
       "  <thead>\n",
       "    <tr style=\"text-align: right;\">\n",
       "      <th></th>\n",
       "      <th>Adj Close</th>\n",
       "      <th>Volume</th>\n",
       "      <th>ma7</th>\n",
       "      <th>ma21</th>\n",
       "      <th>26ema</th>\n",
       "      <th>12ema</th>\n",
       "      <th>MACD</th>\n",
       "      <th>20sd</th>\n",
       "      <th>upper_band</th>\n",
       "      <th>lower_band</th>\n",
       "      <th>ema</th>\n",
       "      <th>ROC</th>\n",
       "      <th>RSI</th>\n",
       "    </tr>\n",
       "  </thead>\n",
       "  <tbody>\n",
       "    <tr>\n",
       "      <th>count</th>\n",
       "      <td>2517.000000</td>\n",
       "      <td>2.517000e+03</td>\n",
       "      <td>2517.000000</td>\n",
       "      <td>2517.000000</td>\n",
       "      <td>2517.000000</td>\n",
       "      <td>2517.000000</td>\n",
       "      <td>2517.000000</td>\n",
       "      <td>2517.000000</td>\n",
       "      <td>2517.000000</td>\n",
       "      <td>2517.000000</td>\n",
       "      <td>2517.000000</td>\n",
       "      <td>2517.000000</td>\n",
       "      <td>2517.000000</td>\n",
       "    </tr>\n",
       "    <tr>\n",
       "      <th>mean</th>\n",
       "      <td>13.169841</td>\n",
       "      <td>4.071425e+07</td>\n",
       "      <td>13.085698</td>\n",
       "      <td>12.888035</td>\n",
       "      <td>12.814380</td>\n",
       "      <td>13.014867</td>\n",
       "      <td>0.200487</td>\n",
       "      <td>0.767395</td>\n",
       "      <td>14.422918</td>\n",
       "      <td>11.353151</td>\n",
       "      <td>12.899571</td>\n",
       "      <td>0.015937</td>\n",
       "      <td>51.811041</td>\n",
       "    </tr>\n",
       "    <tr>\n",
       "      <th>std</th>\n",
       "      <td>15.866651</td>\n",
       "      <td>3.579938e+07</td>\n",
       "      <td>15.691209</td>\n",
       "      <td>15.267826</td>\n",
       "      <td>15.053168</td>\n",
       "      <td>15.520397</td>\n",
       "      <td>0.861549</td>\n",
       "      <td>1.177231</td>\n",
       "      <td>17.220426</td>\n",
       "      <td>13.444571</td>\n",
       "      <td>15.252319</td>\n",
       "      <td>0.114533</td>\n",
       "      <td>14.977326</td>\n",
       "    </tr>\n",
       "    <tr>\n",
       "      <th>min</th>\n",
       "      <td>1.620000</td>\n",
       "      <td>0.000000e+00</td>\n",
       "      <td>1.701429</td>\n",
       "      <td>1.792381</td>\n",
       "      <td>1.786735</td>\n",
       "      <td>1.745111</td>\n",
       "      <td>-2.717936</td>\n",
       "      <td>0.027415</td>\n",
       "      <td>1.904977</td>\n",
       "      <td>1.459299</td>\n",
       "      <td>1.770352</td>\n",
       "      <td>-0.389638</td>\n",
       "      <td>0.000000</td>\n",
       "    </tr>\n",
       "    <tr>\n",
       "      <th>25%</th>\n",
       "      <td>3.650000</td>\n",
       "      <td>1.526940e+07</td>\n",
       "      <td>3.654286</td>\n",
       "      <td>3.629524</td>\n",
       "      <td>3.655424</td>\n",
       "      <td>3.638503</td>\n",
       "      <td>-0.106013</td>\n",
       "      <td>0.173159</td>\n",
       "      <td>4.035042</td>\n",
       "      <td>3.234322</td>\n",
       "      <td>3.642578</td>\n",
       "      <td>-0.050725</td>\n",
       "      <td>41.410339</td>\n",
       "    </tr>\n",
       "    <tr>\n",
       "      <th>50%</th>\n",
       "      <td>6.960000</td>\n",
       "      <td>2.924340e+07</td>\n",
       "      <td>6.980000</td>\n",
       "      <td>6.926667</td>\n",
       "      <td>6.894359</td>\n",
       "      <td>6.958068</td>\n",
       "      <td>0.032777</td>\n",
       "      <td>0.351906</td>\n",
       "      <td>7.642321</td>\n",
       "      <td>6.120113</td>\n",
       "      <td>6.925028</td>\n",
       "      <td>0.012346</td>\n",
       "      <td>52.602851</td>\n",
       "    </tr>\n",
       "    <tr>\n",
       "      <th>75%</th>\n",
       "      <td>13.810000</td>\n",
       "      <td>5.441310e+07</td>\n",
       "      <td>13.780000</td>\n",
       "      <td>13.535238</td>\n",
       "      <td>13.358875</td>\n",
       "      <td>13.637732</td>\n",
       "      <td>0.269461</td>\n",
       "      <td>0.809619</td>\n",
       "      <td>14.887121</td>\n",
       "      <td>12.220166</td>\n",
       "      <td>13.446185</td>\n",
       "      <td>0.081097</td>\n",
       "      <td>62.230244</td>\n",
       "    </tr>\n",
       "    <tr>\n",
       "      <th>max</th>\n",
       "      <td>92.180000</td>\n",
       "      <td>3.250584e+08</td>\n",
       "      <td>87.848572</td>\n",
       "      <td>84.357618</td>\n",
       "      <td>81.482128</td>\n",
       "      <td>86.373815</td>\n",
       "      <td>8.053474</td>\n",
       "      <td>12.143351</td>\n",
       "      <td>93.978309</td>\n",
       "      <td>77.721870</td>\n",
       "      <td>83.520131</td>\n",
       "      <td>0.555970</td>\n",
       "      <td>91.367263</td>\n",
       "    </tr>\n",
       "  </tbody>\n",
       "</table>\n",
       "</div>"
      ],
      "text/plain": [
       "         Adj Close        Volume          ma7         ma21        26ema  \\\n",
       "count  2517.000000  2.517000e+03  2517.000000  2517.000000  2517.000000   \n",
       "mean     13.169841  4.071425e+07    13.085698    12.888035    12.814380   \n",
       "std      15.866651  3.579938e+07    15.691209    15.267826    15.053168   \n",
       "min       1.620000  0.000000e+00     1.701429     1.792381     1.786735   \n",
       "25%       3.650000  1.526940e+07     3.654286     3.629524     3.655424   \n",
       "50%       6.960000  2.924340e+07     6.980000     6.926667     6.894359   \n",
       "75%      13.810000  5.441310e+07    13.780000    13.535238    13.358875   \n",
       "max      92.180000  3.250584e+08    87.848572    84.357618    81.482128   \n",
       "\n",
       "             12ema         MACD         20sd   upper_band   lower_band  \\\n",
       "count  2517.000000  2517.000000  2517.000000  2517.000000  2517.000000   \n",
       "mean     13.014867     0.200487     0.767395    14.422918    11.353151   \n",
       "std      15.520397     0.861549     1.177231    17.220426    13.444571   \n",
       "min       1.745111    -2.717936     0.027415     1.904977     1.459299   \n",
       "25%       3.638503    -0.106013     0.173159     4.035042     3.234322   \n",
       "50%       6.958068     0.032777     0.351906     7.642321     6.120113   \n",
       "75%      13.637732     0.269461     0.809619    14.887121    12.220166   \n",
       "max      86.373815     8.053474    12.143351    93.978309    77.721870   \n",
       "\n",
       "               ema          ROC          RSI  \n",
       "count  2517.000000  2517.000000  2517.000000  \n",
       "mean     12.899571     0.015937    51.811041  \n",
       "std      15.252319     0.114533    14.977326  \n",
       "min       1.770352    -0.389638     0.000000  \n",
       "25%       3.642578    -0.050725    41.410339  \n",
       "50%       6.925028     0.012346    52.602851  \n",
       "75%      13.446185     0.081097    62.230244  \n",
       "max      83.520131     0.555970    91.367263  "
      ]
     },
     "execution_count": 9,
     "metadata": {},
     "output_type": "execute_result"
    }
   ],
   "source": [
    "data_reduced.describe()"
   ]
  },
  {
   "cell_type": "code",
   "execution_count": 10,
   "metadata": {},
   "outputs": [
    {
     "data": {
      "image/png": "[encoded data removed]",
      "text/plain": [
       "<Figure size 432x288 with 1 Axes>"
      ]
     },
     "metadata": {
      "needs_background": "light"
     },
     "output_type": "display_data"
    }
   ],
   "source": [
    "data_reduced.plot()\n",
    "plt.legend()\n",
    "plt.show()"
   ]
  },
  {
   "cell_type": "raw",
   "metadata": {},
   "source": [
    "Data Splitting"
   ]
  },
  {
   "cell_type": "code",
   "execution_count": 11,
   "metadata": {},
   "outputs": [
    {
     "data": {
      "text/html": [
       "<div>\n",
       "<style scoped>\n",
       "    .dataframe tbody tr th:only-of-type {\n",
       "        vertical-align: middle;\n",
       "    }\n",
       "\n",
       "    .dataframe tbody tr th {\n",
       "        vertical-align: top;\n",
       "    }\n",
       "\n",
       "    .dataframe thead th {\n",
       "        text-align: right;\n",
       "    }\n",
       "</style>\n",
       "<table border=\"1\" class=\"dataframe\">\n",
       "  <thead>\n",
       "    <tr style=\"text-align: right;\">\n",
       "      <th></th>\n",
       "      <th>Adj Close</th>\n",
       "      <th>Volume</th>\n",
       "      <th>ma7</th>\n",
       "      <th>ma21</th>\n",
       "      <th>26ema</th>\n",
       "      <th>12ema</th>\n",
       "      <th>MACD</th>\n",
       "      <th>20sd</th>\n",
       "      <th>upper_band</th>\n",
       "      <th>lower_band</th>\n",
       "      <th>ema</th>\n",
       "      <th>ROC</th>\n",
       "      <th>RSI</th>\n",
       "    </tr>\n",
       "  </thead>\n",
       "  <tbody>\n",
       "    <tr>\n",
       "      <th>count</th>\n",
       "      <td>2517.000000</td>\n",
       "      <td>2517.000000</td>\n",
       "      <td>2517.000000</td>\n",
       "      <td>2517.000000</td>\n",
       "      <td>2517.000000</td>\n",
       "      <td>2517.000000</td>\n",
       "      <td>2517.000000</td>\n",
       "      <td>2517.000000</td>\n",
       "      <td>2517.000000</td>\n",
       "      <td>2517.000000</td>\n",
       "      <td>2517.000000</td>\n",
       "      <td>2517.000000</td>\n",
       "      <td>2517.000000</td>\n",
       "    </tr>\n",
       "    <tr>\n",
       "      <th>mean</th>\n",
       "      <td>0.127538</td>\n",
       "      <td>0.125252</td>\n",
       "      <td>0.132149</td>\n",
       "      <td>0.134387</td>\n",
       "      <td>0.138372</td>\n",
       "      <td>0.133167</td>\n",
       "      <td>0.270942</td>\n",
       "      <td>0.061075</td>\n",
       "      <td>0.135956</td>\n",
       "      <td>0.129734</td>\n",
       "      <td>0.136138</td>\n",
       "      <td>0.428904</td>\n",
       "      <td>0.567064</td>\n",
       "    </tr>\n",
       "    <tr>\n",
       "      <th>std</th>\n",
       "      <td>0.175206</td>\n",
       "      <td>0.110132</td>\n",
       "      <td>0.182144</td>\n",
       "      <td>0.184918</td>\n",
       "      <td>0.188884</td>\n",
       "      <td>0.183394</td>\n",
       "      <td>0.079985</td>\n",
       "      <td>0.097164</td>\n",
       "      <td>0.187029</td>\n",
       "      <td>0.176293</td>\n",
       "      <td>0.186573</td>\n",
       "      <td>0.121121</td>\n",
       "      <td>0.163924</td>\n",
       "    </tr>\n",
       "    <tr>\n",
       "      <th>min</th>\n",
       "      <td>0.000000</td>\n",
       "      <td>0.000000</td>\n",
       "      <td>0.000000</td>\n",
       "      <td>0.000000</td>\n",
       "      <td>0.000000</td>\n",
       "      <td>0.000000</td>\n",
       "      <td>0.000000</td>\n",
       "      <td>0.000000</td>\n",
       "      <td>0.000000</td>\n",
       "      <td>0.000000</td>\n",
       "      <td>0.000000</td>\n",
       "      <td>0.000000</td>\n",
       "      <td>0.000000</td>\n",
       "    </tr>\n",
       "    <tr>\n",
       "      <th>25%</th>\n",
       "      <td>0.022416</td>\n",
       "      <td>0.046974</td>\n",
       "      <td>0.022669</td>\n",
       "      <td>0.022251</td>\n",
       "      <td>0.023448</td>\n",
       "      <td>0.022373</td>\n",
       "      <td>0.242487</td>\n",
       "      <td>0.012029</td>\n",
       "      <td>0.023134</td>\n",
       "      <td>0.023275</td>\n",
       "      <td>0.022902</td>\n",
       "      <td>0.358408</td>\n",
       "      <td>0.453229</td>\n",
       "    </tr>\n",
       "    <tr>\n",
       "      <th>50%</th>\n",
       "      <td>0.058966</td>\n",
       "      <td>0.089964</td>\n",
       "      <td>0.061274</td>\n",
       "      <td>0.062185</td>\n",
       "      <td>0.064089</td>\n",
       "      <td>0.061598</td>\n",
       "      <td>0.255372</td>\n",
       "      <td>0.026782</td>\n",
       "      <td>0.062313</td>\n",
       "      <td>0.061115</td>\n",
       "      <td>0.063054</td>\n",
       "      <td>0.425106</td>\n",
       "      <td>0.575730</td>\n",
       "    </tr>\n",
       "    <tr>\n",
       "      <th>75%</th>\n",
       "      <td>0.134607</td>\n",
       "      <td>0.167395</td>\n",
       "      <td>0.140209</td>\n",
       "      <td>0.142225</td>\n",
       "      <td>0.145205</td>\n",
       "      <td>0.140527</td>\n",
       "      <td>0.277345</td>\n",
       "      <td>0.064560</td>\n",
       "      <td>0.140998</td>\n",
       "      <td>0.141103</td>\n",
       "      <td>0.142824</td>\n",
       "      <td>0.497812</td>\n",
       "      <td>0.681100</td>\n",
       "    </tr>\n",
       "    <tr>\n",
       "      <th>max</th>\n",
       "      <td>1.000000</td>\n",
       "      <td>1.000000</td>\n",
       "      <td>1.000000</td>\n",
       "      <td>1.000000</td>\n",
       "      <td>1.000000</td>\n",
       "      <td>1.000000</td>\n",
       "      <td>1.000000</td>\n",
       "      <td>1.000000</td>\n",
       "      <td>1.000000</td>\n",
       "      <td>1.000000</td>\n",
       "      <td>1.000000</td>\n",
       "      <td>1.000000</td>\n",
       "      <td>1.000000</td>\n",
       "    </tr>\n",
       "  </tbody>\n",
       "</table>\n",
       "</div>"
      ],
      "text/plain": [
       "         Adj Close       Volume          ma7         ma21        26ema  \\\n",
       "count  2517.000000  2517.000000  2517.000000  2517.000000  2517.000000   \n",
       "mean      0.127538     0.125252     0.132149     0.134387     0.138372   \n",
       "std       0.175206     0.110132     0.182144     0.184918     0.188884   \n",
       "min       0.000000     0.000000     0.000000     0.000000     0.000000   \n",
       "25%       0.022416     0.046974     0.022669     0.022251     0.023448   \n",
       "50%       0.058966     0.089964     0.061274     0.062185     0.064089   \n",
       "75%       0.134607     0.167395     0.140209     0.142225     0.145205   \n",
       "max       1.000000     1.000000     1.000000     1.000000     1.000000   \n",
       "\n",
       "             12ema         MACD         20sd   upper_band   lower_band  \\\n",
       "count  2517.000000  2517.000000  2517.000000  2517.000000  2517.000000   \n",
       "mean      0.133167     0.270942     0.061075     0.135956     0.129734   \n",
       "std       0.183394     0.079985     0.097164     0.187029     0.176293   \n",
       "min       0.000000     0.000000     0.000000     0.000000     0.000000   \n",
       "25%       0.022373     0.242487     0.012029     0.023134     0.023275   \n",
       "50%       0.061598     0.255372     0.026782     0.062313     0.061115   \n",
       "75%       0.140527     0.277345     0.064560     0.140998     0.141103   \n",
       "max       1.000000     1.000000     1.000000     1.000000     1.000000   \n",
       "\n",
       "               ema          ROC          RSI  \n",
       "count  2517.000000  2517.000000  2517.000000  \n",
       "mean      0.136138     0.428904     0.567064  \n",
       "std       0.186573     0.121121     0.163924  \n",
       "min       0.000000     0.000000     0.000000  \n",
       "25%       0.022902     0.358408     0.453229  \n",
       "50%       0.063054     0.425106     0.575730  \n",
       "75%       0.142824     0.497812     0.681100  \n",
       "max       1.000000     1.000000     1.000000  "
      ]
     },
     "execution_count": 11,
     "metadata": {},
     "output_type": "execute_result"
    }
   ],
   "source": [
    "df = data_reduced\n",
    "df = (df - df.min())/(df.max()-df.min())\n",
    "df.describe()"
   ]
  },
  {
   "cell_type": "code",
   "execution_count": 83,
   "metadata": {},
   "outputs": [
    {
     "name": "stdout",
     "output_type": "stream",
     "text": [
      "1761\n"
     ]
    }
   ],
   "source": [
    "\n",
    "from fractions import Fraction\n",
    "\n",
    "steps=30\n",
    "training_fraction=Fraction(7, 10)\n",
    "validation_fraction=Fraction(2, 10)\n",
    "test_fraction=Fraction(1, 10)\n",
    "training_length = int(len(data_reduced)*training_fraction)\n",
    "\n",
    "assert (training_fraction + validation_fraction + test_fraction) == 1.0\n",
    "\n",
    "validation_start_index = int(len(data_reduced)*training_fraction)\n",
    "test_start_index = int(len(data_reduced)*(training_fraction+validation_fraction))\n",
    "\n",
    "print(validation_start_index)\n",
    "train_df, val_df, test_df = fh.define_data_group(df, validation_start_index, test_start_index)"
   ]
  },
  {
   "cell_type": "code",
   "execution_count": 84,
   "metadata": {},
   "outputs": [
    {
     "name": "stdout",
     "output_type": "stream",
     "text": [
      "1731\n",
      "222\n",
      "222\n"
     ]
    }
   ],
   "source": [
    "x_train, y_train = fh.split_data_for_steps(train_df, steps)\n",
    "x_val, y_val = fh.split_data_for_steps(val_df, steps)\n",
    "x_test, y_test = fh.split_data_for_steps(test_df, steps)\n",
    "print(len(y_train))\n",
    "print(len(y_test))\n",
    "print(len(x_test))\n",
    "assert len(y_train) == len(x_train)\n",
    "assert len(y_test) == len(x_test)"
   ]
  },
  {
   "cell_type": "code",
   "execution_count": 85,
   "metadata": {},
   "outputs": [
    {
     "name": "stdout",
     "output_type": "stream",
     "text": [
      "building tree 1 of 10\n",
      "building tree 2 of 10\n",
      "building tree 3 of 10\n",
      "building tree 4 of 10\n",
      "building tree 5 of 10\n",
      "building tree 6 of 10\n",
      "building tree 7 of 10\n",
      "building tree 8 of 10\n",
      "building tree 9 of 10\n",
      "building tree 10 of 10\n",
      "RandomForestRegressor score :  -1.5283286587882623\n"
     ]
    },
    {
     "name": "stderr",
     "output_type": "stream",
     "text": [
      "[Parallel(n_jobs=1)]: Using backend SequentialBackend with 1 concurrent workers.\n",
      "[Parallel(n_jobs=1)]: Done   1 out of   1 | elapsed:    0.0s remaining:    0.0s\n",
      "[Parallel(n_jobs=1)]: Done  10 out of  10 | elapsed:    0.1s finished\n",
      "[Parallel(n_jobs=1)]: Using backend SequentialBackend with 1 concurrent workers.\n",
      "[Parallel(n_jobs=1)]: Done   1 out of   1 | elapsed:    0.0s remaining:    0.0s\n",
      "[Parallel(n_jobs=1)]: Done  10 out of  10 | elapsed:    0.0s finished\n"
     ]
    },
    {
     "data": {
      "text/plain": [
       "array([0.01456269, 0.19449689, 0.05300855, 0.13848934, 0.07729562,\n",
       "       0.03392125, 0.04949913, 0.12467072, 0.09202995, 0.20760584,\n",
       "       0.0050057 , 0.00941433])"
      ]
     },
     "execution_count": 85,
     "metadata": {},
     "output_type": "execute_result"
    }
   ],
   "source": [
    "model = RandomForestRegressor(n_estimators=10, random_state=84, max_features=\"log2\", verbose=2)\n",
    "model = model.fit(x_train, y_train)\n",
    "print(\"RandomForestRegressor score : \", model.score(x_val, y_val))\n",
    "importances = model.feature_importances_\n",
    "importances"
   ]
  },
  {
   "cell_type": "code",
   "execution_count": 86,
   "metadata": {},
   "outputs": [],
   "source": [
    "model = Pipeline([\n",
    "    (\"poly_features\", PolynomialFeatures(degree=1, include_bias=False)),\n",
    "    (\"lin_reg\",LinearRegression())\n",
    "])"
   ]
  },
  {
   "cell_type": "code",
   "execution_count": 87,
   "metadata": {},
   "outputs": [],
   "source": [
    "model = Pipeline([\n",
    "    (\"poly_features\", PolynomialFeatures(degree=3, include_bias=False)),\n",
    "    (\"standard_scaler\", StandardScaler()),\n",
    "    (\"ridge_reg\",Ridge(alpha=1, solver=\"sag\"))\n",
    "])"
   ]
  },
  {
   "cell_type": "code",
   "execution_count": 88,
   "metadata": {},
   "outputs": [],
   "source": [
    "#model = KernelRidge(alpha=0.000005)\n",
    "\n",
    "#score 0.506118250434066 for AMD and steps =5\n",
    "#model = KernelRidge(alpha=60, degree=4, kernel=\"poly\", coef0=12)\n",
    "\n",
    "#score 0.5054829362386901 for AMD and steps =5\n",
    "#model = KernelRidge(alpha=2.0, degree=3, kernel=\"poly\", coef0=10)\n",
    "\n",
    "#score 0.5145703723256787 for AMD and steps =5\n",
    "#model = KernelRidge(alpha=0.3, degree=2, kernel=\"poly\", coef0=10)\n",
    "\n",
    "#score 0.5145703723256787 for AMD and steps =10\n",
    "model = KernelRidge(alpha=0.1, degree=2, kernel=\"poly\", coef0=9)"
   ]
  },
  {
   "cell_type": "code",
   "execution_count": 89,
   "metadata": {},
   "outputs": [],
   "source": [
    "model = KNeighborsRegressor(15)"
   ]
  },
  {
   "cell_type": "code",
   "execution_count": 90,
   "metadata": {},
   "outputs": [],
   "source": [
    "model = DecisionTreeRegressor(max_leaf_nodes=16, splitter=\"random\")"
   ]
  },
  {
   "cell_type": "code",
   "execution_count": 91,
   "metadata": {},
   "outputs": [
    {
     "name": "stdout",
     "output_type": "stream",
     "text": [
      "-1.2922194923062582\n"
     ]
    },
    {
     "data": {
      "text/plain": [
       "0"
      ]
     },
     "execution_count": 91,
     "metadata": {},
     "output_type": "execute_result"
    }
   ],
   "source": [
    "from sklearn.tree import export_graphviz\n",
    "#from graphviz import dot\n",
    "import os\n",
    "\n",
    "model = model.fit(x_train, y_train)\n",
    "print(model.score(x_val, y_val))\n",
    "\n",
    "export_graphviz(\n",
    "    model,\n",
    "    out_file=\"gds.dot\",\n",
    "    feature_names=data_reduced.columns[1:],\n",
    "    #class_names=data_reduced.target_names,\n",
    "    rounded=True,\n",
    "    filled=True    \n",
    ") \n",
    "\n",
    "#graphviz.dot -Tpng gds.dot -o gds.png\n",
    "\n",
    "from subprocess import check_call\n",
    "check_call(['dot','-Tpng','gds.dot','-o','gds.png'])"
   ]
  },
  {
   "cell_type": "code",
   "execution_count": 81,
   "metadata": {},
   "outputs": [
    {
     "data": {
      "text/plain": [
       "-1.1943502274803781"
      ]
     },
     "execution_count": 81,
     "metadata": {},
     "output_type": "execute_result"
    }
   ],
   "source": [
    "model = model.fit(x_train, y_train)\n",
    "model.score(x_val, y_val)"
   ]
  },
  {
   "cell_type": "code",
   "execution_count": 92,
   "metadata": {},
   "outputs": [],
   "source": [
    "offset=10\n",
    "periods=len(x_test)-offset\n",
    "\n",
    "y_pred=[]\n",
    "for i in range(periods):\n",
    "    x_arr = x_test[offset+i,:]\n",
    "    x_formatted = x_arr.astype('float32')\n",
    "    x_formatted = np.reshape(x_formatted,(1, x_formatted.shape[0]))\n",
    "    #print(\"x_formatted {}\".format(x_formatted))\n",
    "    result = model.predict(x_formatted)\n",
    "    #print(result)\n",
    "    y_pred = np.append(y_pred, result)"
   ]
  },
  {
   "cell_type": "code",
   "execution_count": 93,
   "metadata": {},
   "outputs": [],
   "source": [
    "y_test_period = y_test[offset:offset+periods]"
   ]
  },
  {
   "cell_type": "code",
   "execution_count": 94,
   "metadata": {},
   "outputs": [
    {
     "name": "stderr",
     "output_type": "stream",
     "text": [
      "No handles with labels found to put in legend.\n"
     ]
    },
    {
     "data": {
      "image/png": "[encoded data removed]",
      "text/plain": [
       "<Figure size 432x288 with 1 Axes>"
      ]
     },
     "metadata": {
      "needs_background": "light"
     },
     "output_type": "display_data"
    }
   ],
   "source": [
    "plt.plot(y_pred, color='purple')\n",
    "plt.plot(y_test_period, color='orange')\n",
    "plt.legend()\n",
    "plt.show()"
   ]
  },
  {
   "cell_type": "code",
   "execution_count": 95,
   "metadata": {},
   "outputs": [
    {
     "name": "stdout",
     "output_type": "stream",
     "text": [
      "Test MSE: 0.263\n"
     ]
    }
   ],
   "source": [
    "test_score = mean_squared_error(y_pred, y_test_period)\n",
    "print('Test MSE: %.3f' % test_score)"
   ]
  },
  {
   "cell_type": "code",
   "execution_count": 96,
   "metadata": {},
   "outputs": [
    {
     "name": "stdout",
     "output_type": "stream",
     "text": [
      "Test RMSE: 0.513\n"
     ]
    }
   ],
   "source": [
    "rmse = np.sqrt(mean_squared_error(y_pred, y_test_period))\n",
    "print('Test RMSE: %.3f' % rmse)"
   ]
  },
  {
   "cell_type": "code",
   "execution_count": null,
   "metadata": {},
   "outputs": [],
   "source": []
  },
  {
   "cell_type": "code",
   "execution_count": null,
   "metadata": {},
   "outputs": [],
   "source": []
  },
  {
   "cell_type": "code",
   "execution_count": null,
   "metadata": {},
   "outputs": [],
   "source": []
  }
 ],
 "metadata": {
  "kernelspec": {
   "display_name": "conda_pytorch_p36",
   "language": "python",
   "name": "conda_pytorch_p36"
  },
  "language_info": {
   "codemirror_mode": {
    "name": "ipython",
    "version": 3
   },
   "file_extension": ".py",
   "mimetype": "text/x-python",
   "name": "python",
   "nbconvert_exporter": "python",
   "pygments_lexer": "ipython3",
   "version": "3.6.10"
  }
 },
 "nbformat": 4,
 "nbformat_minor": 4
}
